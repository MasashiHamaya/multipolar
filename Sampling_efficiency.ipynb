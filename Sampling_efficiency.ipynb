{
 "cells": [
  {
   "cell_type": "code",
   "execution_count": 1,
   "metadata": {},
   "outputs": [
    {
     "name": "stderr",
     "output_type": "stream",
     "text": [
      "/opt/pyenv/versions/3.6.5/lib/python3.6/site-packages/h5py/__init__.py:36: FutureWarning: Conversion of the second argument of issubdtype from `float` to `np.floating` is deprecated. In future, it will be treated as `np.float64 == np.dtype(float).type`.\n",
      "  from ._conv import register_converters as _register_converters\n"
     ]
    }
   ],
   "source": [
    "import os\n",
    "import pickle\n",
    "import numpy as np\n",
    "import bootstrapped.bootstrap as bs\n",
    "import bootstrapped.stats_functions as bs_stats\n",
    "from stable_baselines.results_plotter import ts2xy\n",
    "from stable_baselines.bench.monitor import load_results\n",
    "from tqdm import tqdm\n",
    "from collections import defaultdict"
   ]
  },
  {
   "cell_type": "code",
   "execution_count": 2,
   "metadata": {},
   "outputs": [],
   "source": [
    "algo = 'ppo2' # \"sac\"\n",
    "env = \"Acrobot-v1\" #'CartPole-v1' 'RoboschoolInvertedPendulumSwingup-v1' \"RoboschoolAnt-v1\"  \"RoboschoolHopper-v1\"  \"LunarLanderContinuous-v2\"\n",
    "total_timesteps = int(2e5) # int(2e6)\n",
    "prefixes =  ['4sources-3sets-SIW', '1sources-3sets-SIW'] #[\"1sources-3sets-SDW\", \"4sources-3sets-SDW\", \"4sources-3sets-SIW-no-bias\"] #\"1sources-3sets-SIW\", \"4sources-3sets-SIW\" \"1sources-3sets-1subopt-SIW\" \"4sources-3sets-2subopt-SIW\", \"4sources-3sets-4subopt-SIW\" \"8sources-3sets-SIW\"\n",
    "\n",
    "base = 'logs'\n",
    "save_path = \"{}/{}_analysis/\".format(base, env)\n",
    "os.makedirs(save_path, exist_ok=True)"
   ]
  },
  {
   "cell_type": "markdown",
   "metadata": {},
   "source": [
    "### Compute mean episodic rewards"
   ]
  },
  {
   "cell_type": "code",
   "execution_count": 3,
   "metadata": {},
   "outputs": [],
   "source": [
    "def _get_mean_episodic_reward(result, steps_percentage, total_timesteps=None):\n",
    "    \n",
    "    timesteps = result[0]\n",
    "    if total_timesteps is None:\n",
    "        total_timesteps = timesteps[-1]\n",
    "    cut_off = int(total_timesteps * steps_percentage)\n",
    "    \n",
    "    \n",
    "    if timesteps[-1] / cut_off < .95:\n",
    "        print(timesteps[-1] / cut_off,  timesteps[-1])\n",
    "        raise Warning(\"total_timesteps {} is too high comparing to trained timesteps {}\".format(total_timesteps, timesteps[-1]))\n",
    "    \n",
    "    # find cut_off episode\n",
    "    for cut_ind in reversed(range(len(timesteps))):\n",
    "        if timesteps[cut_ind] <= cut_off:\n",
    "            break\n",
    "    \n",
    "    return result[1][:cut_ind].mean()"
   ]
  },
  {
   "cell_type": "code",
   "execution_count": 4,
   "metadata": {
    "scrolled": true
   },
   "outputs": [
    {
     "name": "stderr",
     "output_type": "stream",
     "text": [
      "100%|██████████| 30/30 [00:17<00:00,  1.67it/s]\n"
     ]
    }
   ],
   "source": [
    "mean_episodic_reward = defaultdict(list)\n",
    "failed_exp = defaultdict(list)\n",
    "for env_exp_id in tqdm(os.listdir('logs/{}'.format(algo))):\n",
    "    if env in env_exp_id and env_exp_id[-1]=='1':\n",
    "        # remove the experiment number\n",
    "        env_exp = env_exp_id[:-2]\n",
    "        for i in range(1,4):\n",
    "            # load results of training from scratch\n",
    "            try:\n",
    "                result = ts2xy(load_results(\"logs/{}/{}_{}\".format(algo, env_exp, i)), 'timesteps')\n",
    "            except:\n",
    "                print((\"logs/{}/{}_{}\".format(algo, env_exp, i)))\n",
    "            for steps_percentage in [0.25, 0.5, 0.75, 1.0]:\n",
    "                mean_episodic_reward[algo+'_{}%'.format(int(steps_percentage*100))].append(\n",
    "                    _get_mean_episodic_reward(result, steps_percentage, total_timesteps))\n",
    "            \n",
    "        # get the experiment name\n",
    "        exp = ''.join(env_exp.split('_')[1:])\n",
    "        for p in prefixes:\n",
    "            for i in range(1,10):\n",
    "                file = \"{}/multipolar-{}/{}_{}-{}_{}\".format(base, algo, env, p, exp, i)\n",
    "                try:\n",
    "                    result = ts2xy(load_results(file), 'timesteps')\n",
    "                    for steps_percentage in [0.25, 0.5, 0.75, 1.0]:\n",
    "                        mean_episodic_reward['multipolar-{}_{}_{}%'.format(algo, p, int(steps_percentage*100))].append(\n",
    "                            _get_mean_episodic_reward(result, steps_percentage, total_timesteps))\n",
    "                except:\n",
    "                    failed_exp['multipolar-{}_{}'.format(algo, p)].append(file)"
   ]
  },
  {
   "cell_type": "code",
   "execution_count": 5,
   "metadata": {
    "scrolled": true
   },
   "outputs": [],
   "source": [
    "for model in failed_exp:\n",
    "    print(model, failed_exp[model], len(failed_exp[model]))"
   ]
  },
  {
   "cell_type": "markdown",
   "metadata": {},
   "source": [
    "### Save the results"
   ]
  },
  {
   "cell_type": "code",
   "execution_count": 6,
   "metadata": {},
   "outputs": [
    {
     "name": "stdout",
     "output_type": "stream",
     "text": [
      "ppo2_25% exists\n",
      "ppo2_50% exists\n",
      "ppo2_75% exists\n",
      "ppo2_100% exists\n",
      "saved multipolar-ppo2_4sources-3sets-SIW_25%\n",
      "saved multipolar-ppo2_4sources-3sets-SIW_50%\n",
      "saved multipolar-ppo2_4sources-3sets-SIW_75%\n",
      "saved multipolar-ppo2_4sources-3sets-SIW_100%\n",
      "saved multipolar-ppo2_1sources-3sets-SIW_25%\n",
      "saved multipolar-ppo2_1sources-3sets-SIW_50%\n",
      "saved multipolar-ppo2_1sources-3sets-SIW_75%\n",
      "saved multipolar-ppo2_1sources-3sets-SIW_100%\n"
     ]
    }
   ],
   "source": [
    "for model in mean_episodic_reward.keys():\n",
    "    file = os.path.join(save_path, model + '-{}.pkl'.format(total_timesteps))\n",
    "    if os.path.isfile(file):\n",
    "        print(\"{} exists\".format(model))\n",
    "        continue\n",
    "    with open(file, 'wb') as f:\n",
    "        pickle.dump(mean_episodic_reward[model], f, pickle.HIGHEST_PROTOCOL)\n",
    "        print(\"saved {}\".format(model))\n",
    "        \n",
    "    file = os.path.join(save_path, model[:-5] + 'failed_exp.pkl')\n",
    "    if os.path.isfile(file):\n",
    "        with file as f:\n",
    "            pickle.dump(failed_exp[model], f, pickle.HIGHEST_PROTOCOL)"
   ]
  },
  {
   "cell_type": "markdown",
   "metadata": {},
   "source": [
    "### Loading pickles"
   ]
  },
  {
   "cell_type": "code",
   "execution_count": 7,
   "metadata": {},
   "outputs": [],
   "source": [
    "mean_episodic_reward = {}\n",
    "failed_exp = {}\n",
    "for model in os.listdir(save_path):\n",
    "    file = os.path.join(save_path, model)\n",
    "    if file[-4:] == '.pkl':\n",
    "        with open(file, 'rb') as f:\n",
    "            if 'failed' in file:\n",
    "                failed_exp[model[:-4]] = pickle.load(f)\n",
    "            else:\n",
    "                mean_episodic_reward[model[:-4]] = pickle.load(f)"
   ]
  },
  {
   "cell_type": "markdown",
   "metadata": {},
   "source": [
    "### Print results"
   ]
  },
  {
   "cell_type": "code",
   "execution_count": 8,
   "metadata": {},
   "outputs": [
    {
     "name": "stdout",
     "output_type": "stream",
     "text": [
      "ppo2_25%-200000 -307 (-341,-276)\n",
      "ppo2_50%-200000 -154 (-172,-136)\n",
      "ppo2_75%-200000 -120 (-134,-106)\n",
      "ppo2_100%-200000 -106 (-118,-93)\n",
      "multipolar-ppo2_4sources-3sets-SIW_25%-200000 -147 (-158,-136)\n",
      "multipolar-ppo2_4sources-3sets-SIW_50%-200000 -111 (-119,-103)\n",
      "multipolar-ppo2_4sources-3sets-SIW_75%-200000 -98 (-105,-91)\n",
      "multipolar-ppo2_4sources-3sets-SIW_100%-200000 -92 (-99,-86)\n",
      "multipolar-ppo2_1sources-3sets-SIW_25%-200000 -156 (-169,-143)\n",
      "multipolar-ppo2_1sources-3sets-SIW_50%-200000 -115 (-124,-106)\n",
      "multipolar-ppo2_1sources-3sets-SIW_75%-200000 -100 (-107,-92)\n",
      "multipolar-ppo2_1sources-3sets-SIW_100%-200000 -93 (-100,-86)\n"
     ]
    }
   ],
   "source": [
    "np.random.seed(1993)\n",
    "for key in mean_episodic_reward:\n",
    "    cleanedList = [x for x in mean_episodic_reward[key] if str(x) != 'nan']\n",
    "    # print(key, str(round(np.mean(mean_episodic_reward[key]), 2)) + \" ± \" + str(round( 1.96 * np.std(mean_episodic_reward[key])/10, 2)) )\n",
    "    bounds = bs.bootstrap(np.array(cleanedList), stat_func=bs_stats.mean)\n",
    "    print(key, int(round(bounds.value)), \"({},{})\".format(int(round(bounds.lower_bound)), int(round(bounds.upper_bound))))\n"
   ]
  },
  {
   "cell_type": "code",
   "execution_count": 9,
   "metadata": {},
   "outputs": [
    {
     "name": "stdout",
     "output_type": "stream",
     "text": [
      "ppo2_25%-200000 30\n",
      "ppo2_50%-200000 30\n",
      "ppo2_75%-200000 30\n",
      "ppo2_100%-200000 30\n",
      "multipolar-ppo2_4sources-3sets-SIW_25%-200000 90\n",
      "multipolar-ppo2_4sources-3sets-SIW_50%-200000 90\n",
      "multipolar-ppo2_4sources-3sets-SIW_75%-200000 90\n",
      "multipolar-ppo2_4sources-3sets-SIW_100%-200000 90\n",
      "multipolar-ppo2_1sources-3sets-SIW_25%-200000 90\n",
      "multipolar-ppo2_1sources-3sets-SIW_50%-200000 90\n",
      "multipolar-ppo2_1sources-3sets-SIW_75%-200000 90\n",
      "multipolar-ppo2_1sources-3sets-SIW_100%-200000 90\n"
     ]
    }
   ],
   "source": [
    "for key in mean_episodic_reward:\n",
    "    print(key, len(mean_episodic_reward[key]))"
   ]
  },
  {
   "cell_type": "code",
   "execution_count": 10,
   "metadata": {},
   "outputs": [
    {
     "data": {
      "text/plain": [
       "dict_keys(['ppo2_25%-200000', 'ppo2_50%-200000', 'ppo2_75%-200000', 'ppo2_100%-200000', 'multipolar-ppo2_4sources-3sets-SIW_25%-200000', 'multipolar-ppo2_4sources-3sets-SIW_50%-200000', 'multipolar-ppo2_4sources-3sets-SIW_75%-200000', 'multipolar-ppo2_4sources-3sets-SIW_100%-200000', 'multipolar-ppo2_1sources-3sets-SIW_25%-200000', 'multipolar-ppo2_1sources-3sets-SIW_50%-200000', 'multipolar-ppo2_1sources-3sets-SIW_75%-200000', 'multipolar-ppo2_1sources-3sets-SIW_100%-200000'])"
      ]
     },
     "execution_count": 10,
     "metadata": {},
     "output_type": "execute_result"
    }
   ],
   "source": [
    "mean_episodic_reward.keys()"
   ]
  },
  {
   "cell_type": "code",
   "execution_count": null,
   "metadata": {},
   "outputs": [],
   "source": []
  }
 ],
 "metadata": {
  "kernelspec": {
   "display_name": "Python 3",
   "language": "python",
   "name": "python3"
  },
  "language_info": {
   "codemirror_mode": {
    "name": "ipython",
    "version": 3
   },
   "file_extension": ".py",
   "mimetype": "text/x-python",
   "name": "python",
   "nbconvert_exporter": "python",
   "pygments_lexer": "ipython3",
   "version": "3.6.5"
  }
 },
 "nbformat": 4,
 "nbformat_minor": 4
}
