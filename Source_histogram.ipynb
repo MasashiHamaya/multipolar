{
 "cells": [
  {
   "cell_type": "code",
   "execution_count": 1,
   "metadata": {},
   "outputs": [],
   "source": [
    "import os\n",
    "import pickle\n",
    "import numpy as np\n",
    "from stable_baselines.results_plotter import ts2xy\n",
    "from stable_baselines.bench.monitor import load_results\n",
    "from tqdm import tqdm\n",
    "from collections import defaultdict\n",
    "import matplotlib\n",
    "import matplotlib.pyplot as plt\n",
    "%matplotlib inline\n",
    "\n",
    "import seaborn as sns\n",
    "import pandas as pd\n",
    "\n",
    "\n",
    "\n",
    "nice_fonts = {\n",
    "        # Use LaTeX to write all text\n",
    "        \"text.usetex\": True,\n",
    "        \"font.family\": \"serif\",\n",
    "        # Use 10pt font in plots, to match 10pt font in document\n",
    "        'axes.titlesize' : 16,\n",
    "        \"axes.labelsize\": 16,\n",
    "        \"font.size\": 10,\n",
    "        'font.weight':'bold',\n",
    "        # Make the legend/label fonts a little smaller\n",
    "        \"legend.fontsize\": 6,\n",
    "        \"xtick.labelsize\": 12,\n",
    "        \"ytick.labelsize\": 12,\n",
    "        'font.weight':'bold',\n",
    "        'axes.labelweight': 'bold'\n",
    "}\n",
    "\n",
    "sns.axes_style().update(nice_fonts)"
   ]
  },
  {
   "cell_type": "code",
   "execution_count": 2,
   "metadata": {},
   "outputs": [],
   "source": [
    "# env_algo = [('CartPole-v1','ppo2'), \n",
    "#             ('RoboschoolInvertedPendulumSwingup-v1', 'ppo2'), \n",
    "#              ('RoboschoolAnt-v1', 'ppo2'),\n",
    "#             ('RoboschoolHopper-v1', 'ppo2'), \n",
    "#             ('Acrobot-v1', 'ppo2'), \n",
    "#             ('LunarLanderContinuous-v2', 'sac')]\n",
    "\n",
    "\n",
    "env_algo = [('Acrobot-v1', 'ppo2')]\n",
    "\n",
    "fig_width_inches = 5.5 / 1.0\n",
    "font_scale = 1.5\n",
    "\n",
    "###############\n",
    "# Golden ratio to set aesthetic figure height\n",
    "golden_ratio = (5**.5 - 1) / 2\n",
    "\n",
    "# Figure height in inches\n",
    "fig_height_inches = fig_width_inches * golden_ratio\n",
    "figsize = (fig_width_inches, fig_height_inches)\n",
    "\n",
    "\n",
    "\n",
    "sns.set(style=\"white\", font_scale=font_scale)"
   ]
  },
  {
   "cell_type": "markdown",
   "metadata": {},
   "source": [
    "### Compute last 100 episode mean rewards"
   ]
  },
  {
   "cell_type": "code",
   "execution_count": 3,
   "metadata": {
    "scrolled": true
   },
   "outputs": [
    {
     "name": "stderr",
     "output_type": "stream",
     "text": [
      "100%|██████████| 30/30 [00:00<00:00, 66.97it/s] \n"
     ]
    }
   ],
   "source": [
    "mean_rewards = defaultdict(list)\n",
    "for env, algo in env_algo:\n",
    "    save_path = \"logs/{}_analysis/\".format(env)\n",
    "    os.makedirs(save_path, exist_ok=True)\n",
    "    for env_exp_id in tqdm(os.listdir('logs/{}'.format(algo))):\n",
    "        if env in env_exp_id and env_exp_id[-1]=='1':\n",
    "            # load results of training from scratch\n",
    "            try:\n",
    "                _, y = ts2xy(load_results(\"logs/{}/{}\".format(algo, env_exp_id)), 'episodes')\n",
    "                mean_rewards[env].append(np.mean(y[-100:]))\n",
    "            except:\n",
    "                print(\"logs/{}/{}\".format(algo, env_exp_id))\n",
    "                "
   ]
  },
  {
   "cell_type": "markdown",
   "metadata": {},
   "source": [
    "### Save the results"
   ]
  },
  {
   "cell_type": "code",
   "execution_count": 5,
   "metadata": {},
   "outputs": [
    {
     "name": "stdout",
     "output_type": "stream",
     "text": [
      "saved Acrobot-v1\n"
     ]
    }
   ],
   "source": [
    "for env in mean_rewards.keys():\n",
    "    file = \"logs/{}_analysis/{}.pkl\".format(env, env)\n",
    "    if os.path.isfile(file):\n",
    "        print(\"{} exists\".format(env))\n",
    "        continue\n",
    "    with open(file, 'wb') as f:\n",
    "        pickle.dump(mean_rewards[env], f, pickle.HIGHEST_PROTOCOL)\n",
    "        print(\"saved {}\".format(env))"
   ]
  },
  {
   "cell_type": "markdown",
   "metadata": {},
   "source": [
    "### Loading pickles"
   ]
  },
  {
   "cell_type": "code",
   "execution_count": 6,
   "metadata": {},
   "outputs": [],
   "source": [
    "mean_rewards = {}\n",
    "for env, _ in env_algo:\n",
    "    file = \"logs/{}_analysis/{}.pkl\".format(env, env)\n",
    "    if file[-4:] == '.pkl':\n",
    "        with open(file, 'rb') as f:\n",
    "            mean_rewards[env] = pickle.load(f)"
   ]
  },
  {
   "cell_type": "markdown",
   "metadata": {},
   "source": [
    "### Plot results"
   ]
  },
  {
   "cell_type": "code",
   "execution_count": 7,
   "metadata": {},
   "outputs": [
    {
     "data": {
      "image/png": "[encoded data removed]",
      "text/plain": [
       "<Figure size 432x288 with 1 Axes>"
      ]
     },
     "metadata": {},
     "output_type": "display_data"
    }
   ],
   "source": [
    "for env in mean_rewards:\n",
    "    ax = sns.distplot(mean_rewards[env], kde= False, norm_hist=False)\n",
    "    ax.set_title(env[:-3])\n",
    "    ax.set_xlabel('Final Episodic Reward')\n",
    "    ax.set_ylabel('#Source Policies')\n",
    "    ax.figure.savefig(\"logs/{}_analysis/{}.pdf\".format(env, env), bbox_inches='tight', format='pdf', dpi=300)\n",
    "    plt.show()"
   ]
  },
  {
   "cell_type": "code",
   "execution_count": null,
   "metadata": {},
   "outputs": [],
   "source": []
  }
 ],
 "metadata": {
  "kernelspec": {
   "display_name": "Python 3",
   "language": "python",
   "name": "python3"
  },
  "language_info": {
   "codemirror_mode": {
    "name": "ipython",
    "version": 3
   },
   "file_extension": ".py",
   "mimetype": "text/x-python",
   "name": "python",
   "nbconvert_exporter": "python",
   "pygments_lexer": "ipython3",
   "version": "3.6.8"
  }
 },
 "nbformat": 4,
 "nbformat_minor": 4
}
